{
 "cells": [
  {
   "cell_type": "code",
   "execution_count": null,
   "id": "f868e902",
   "metadata": {
    "vscode": {
     "languageId": "plaintext"
    }
   },
   "outputs": [],
   "source": [
    "from flask import Flask,render_template,send_from_directory\n",
    "\n",
    "# ImportError: attempted relative import with no known parent package\n",
    "import sys\n",
    "sys.path.append(\"..\") # Adds higher directory to python modules path.\n",
    "\n",
    "app = Flask(__name__)\n",
    "\n",
    "# Register blueprints\n",
    "from routes.upload_resume import upload_resume_bp\n",
    "app.register_blueprint(upload_resume_bp)\n",
    "\n",
    "from routes.get_resume_data import get_resume_data_bp\n",
    "app.register_blueprint(get_resume_data_bp)\n",
    "\n",
    "from routes.recommend_courses import recommend_courses_bp\n",
    "app.register_blueprint(recommend_courses_bp)\n",
    "\n",
    "\n",
    "from routes.recommend_skills import recommend_skills_bp\n",
    "app.register_blueprint(recommend_skills_bp)\n",
    "\n",
    "from routes.ats_recommendations import ats_recommendations_bp\n",
    "app.register_blueprint(ats_recommendations_bp)\n",
    "\n",
    "from routes.overall_score import overall_score_bp\n",
    "app.register_blueprint(overall_score_bp)\n",
    "\n",
    "@app.route(\"/\")\n",
    "def index():\n",
    "    return \"hello world!\"\n",
    "\n",
    "\n",
    "if __name__ == \"__main__\":\n",
    "    app.run(debug=True)\n",
    "    "
   ]
  }
 ],
 "metadata": {
  "language_info": {
   "name": "python"
  }
 },
 "nbformat": 4,
 "nbformat_minor": 5
}
